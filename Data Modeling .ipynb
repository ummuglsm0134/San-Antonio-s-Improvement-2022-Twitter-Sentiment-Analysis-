{
 "cells": [
  {
   "cell_type": "code",
   "execution_count": 65,
   "id": "842ec4e2",
   "metadata": {},
   "outputs": [
    {
     "name": "stdout",
     "output_type": "stream",
     "text": [
      "['6. Public utilities for energy/water/and waste management', '5. Community resilience/adaptability/and sustainability', '8. Smart building technologies and IoT applications', '2. Data governance and city data platforms and dashboards', '3. Wireless communications and broadband applications', '2. Data governance and city data platforms and dashboards', '1. Transportation systems/vehicles and autonomy', '10. Community well-being', '5. Community resilience/adaptability/and sustainability', '6. Public utilities for energy/water/and waste management', '9.  Education and workforce development', '11. Other', '11. Other', '1. Transportation systems/vehicles and autonomy', '8. Smart building technologies and IoT applications', '3. Wireless communications and broadband applications', '5. Community resilience/adaptability/and sustainability', '3. Wireless communications and broadband applications', '7. Agriculture and rural productivity and quality of life', '1. Transportation systems/vehicles and autonomy', '3. Wireless communications and broadband applications', '11. Other', '11. Other', '1. Transportation systems/vehicles and autonomy', '10. Community well-being', '10. Community well-being', '11. Other', '1. Transportation systems/vehicles and autonomy', '5. Community resilience/adaptability/and sustainability', '4. Cybersecurity and privacy for public and private sectors', '11. Other', '7. Agriculture and rural productivity and quality of life', '10. Community well-being', '3. Wireless communications and broadband applications', '2. Data governance and city data platforms and dashboards', '5. Community resilience/adaptability/and sustainability', '8. Smart building technologies and IoT applications', '11. Other', '8. Smart building technologies and IoT applications', '2. Data governance and city data platforms and dashboards', '5. Community resilience/adaptability/and sustainability', '1. Transportation systems/vehicles and autonomy', '3. Wireless communications and broadband applications', '2. Data governance and city data platforms and dashboards', '11. Other', '5. Community resilience/adaptability/and sustainability', '6. Public utilities for energy/water/and waste management', '1. Transportation systems/vehicles and autonomy', '6. Public utilities for energy/water/and waste management', '3. Wireless communications and broadband applications', '1. Transportation systems/vehicles and autonomy', '3. Wireless communications and broadband applications', '11. Other', '1. Transportation systems/vehicles and autonomy', '5. Community resilience/adaptability/and sustainability', '11. Other', '5. Community resilience/adaptability/and sustainability', '11. Other', '3. Wireless communications and broadband applications', '8. Smart building technologies and IoT applications', '2. Data governance and city data platforms and dashboards', '8. Smart building technologies and IoT applications', '9.  Education and workforce development', '1. Transportation systems/vehicles and autonomy', '1. Transportation systems/vehicles and autonomy', '1. Transportation systems/vehicles and autonomy', '3. Wireless communications and broadband applications', '5. Community resilience/adaptability/and sustainability', '8. Smart building technologies and IoT applications', '5. Community resilience/adaptability/and sustainability', '11. Other', '9.  Education and workforce development', '5. Community resilience/adaptability/and sustainability', '8. Smart building technologies and IoT applications', '6. Public utilities for energy/water/and waste management', '1. Transportation systems/vehicles and autonomy', '6. Public utilities for energy/water/and waste management', '9.  Education and workforce development', '8. Smart building technologies and IoT applications', '8. Smart building technologies and IoT applications', '3. Wireless communications and broadband applications', '10. Community well-being', '11. Other', '8. Smart building technologies and IoT applications', '6. Public utilities for energy/water/and waste management', '7. Agriculture and rural productivity and quality of life', '7. Agriculture and rural productivity and quality of life', '8. Smart building technologies and IoT applications', '8. Smart building technologies and IoT applications', '2. Data governance and city data platforms and dashboards', '1. Transportation systems/vehicles and autonomy', '11. Other', '1. Transportation systems/vehicles and autonomy', '9.  Education and workforce development', '5. Community resilience/adaptability/and sustainability', '8. Smart building technologies and IoT applications', '9.  Education and workforce development', '3. Wireless communications and broadband applications', '6. Public utilities for energy/water/and waste management', '1. Transportation systems/vehicles and autonomy', '10. Community well-being', '5. Community resilience/adaptability/and sustainability', '1. Transportation systems/vehicles and autonomy', '1. Transportation systems/vehicles and autonomy', '11. Other', '5. Community resilience/adaptability/and sustainability', '10. Community well-being', '5. Community resilience/adaptability/and sustainability', '8. Smart building technologies and IoT applications', '11. Other', '11. Other', '10. Community well-being', '3. Wireless communications and broadband applications', '8. Smart building technologies and IoT applications', '9.  Education and workforce development', '8. Smart building technologies and IoT applications', '1. Transportation systems/vehicles and autonomy', '1. Transportation systems/vehicles and autonomy', '7. Agriculture and rural productivity and quality of life', '10. Community well-being', '6. Public utilities for energy/water/and waste management', '6. Public utilities for energy/water/and waste management', '8. Smart building technologies and IoT applications', '1. Transportation systems/vehicles and autonomy', '3. Wireless communications and broadband applications', '3. Wireless communications and broadband applications', '8. Smart building technologies and IoT applications', '3. Wireless communications and broadband applications', '1. Transportation systems/vehicles and autonomy', '6. Public utilities for energy/water/and waste management', '1. Transportation systems/vehicles and autonomy', '7. Agriculture and rural productivity and quality of life', '7. Agriculture and rural productivity and quality of life', '8. Smart building technologies and IoT applications', '10. Community well-being', '1. Transportation systems/vehicles and autonomy', '11. Other', '5. Community resilience/adaptability/and sustainability', '7. Agriculture and rural productivity and quality of life', '10. Community well-being', '3. Wireless communications and broadband applications', '11. Other', '10. Community well-being', '1. Transportation systems/vehicles and autonomy', '2. Data governance and city data platforms and dashboards', '9.  Education and workforce development', '9.  Education and workforce development', '11. Other', '10. Community well-being', '1. Transportation systems/vehicles and autonomy', '5. Community resilience/adaptability/and sustainability', '1. Transportation systems/vehicles and autonomy', '5. Community resilience/adaptability/and sustainability', '6. Public utilities for energy/water/and waste management', '1. Transportation systems/vehicles and autonomy', '8. Smart building technologies and IoT applications', '3. Wireless communications and broadband applications', '11. Other', '11. Other', '8. Smart building technologies and IoT applications', '10. Community well-being', '3. Wireless communications and broadband applications', '2. Data governance and city data platforms and dashboards', '11. Other', '7. Agriculture and rural productivity and quality of life', '6. Public utilities for energy/water/and waste management', '5. Community resilience/adaptability/and sustainability', '10. Community well-being', '8. Smart building technologies and IoT applications', '2. Data governance and city data platforms and dashboards', '11. Other', '11. Other', '10. Community well-being', '11. Other', '3. Wireless communications and broadband applications', '3. Wireless communications and broadband applications', '1. Transportation systems/vehicles and autonomy', '7. Agriculture and rural productivity and quality of life', '5. Community resilience/adaptability/and sustainability', '8. Smart building technologies and IoT applications', '10. Community well-being', '1. Transportation systems/vehicles and autonomy', '1. Transportation systems/vehicles and autonomy', '11. Other', '8. Smart building technologies and IoT applications', '1. Transportation systems/vehicles and autonomy', '1. Transportation systems/vehicles and autonomy', '8. Smart building technologies and IoT applications', '5. Community resilience/adaptability/and sustainability', '2. Data governance and city data platforms and dashboards', '8. Smart building technologies and IoT applications', '2. Data governance and city data platforms and dashboards', '11. Other', '2. Data governance and city data platforms and dashboards', '1. Transportation systems/vehicles and autonomy', '10. Community well-being', '5. Community resilience/adaptability/and sustainability', '1. Transportation systems/vehicles and autonomy', '2. Data governance and city data platforms and dashboards', '10. Community well-being', '8. Smart building technologies and IoT applications', '2. Data governance and city data platforms and dashboards', '10. Community well-being', '11. Other', '2. Data governance and city data platforms and dashboards', '11. Other', '10. Community well-being', '11. Other', '5. Community resilience/adaptability/and sustainability', '1. Transportation systems/vehicles and autonomy', '2. Data governance and city data platforms and dashboards', '5. Community resilience/adaptability/and sustainability', '9.  Education and workforce development', '3. Wireless communications and broadband applications', '10. Community well-being', '9.  Education and workforce development', '11. Other', '11. Other', '11. Other', '9.  Education and workforce development', '10. Community well-being', '5. Community resilience/adaptability/and sustainability', '11. Other', '7. Agriculture and rural productivity and quality of life', '10. Community well-being', '10. Community well-being', '11. Other', '3. Wireless communications and broadband applications', '2. Data governance and city data platforms and dashboards', '2. Data governance and city data platforms and dashboards', '8. Smart building technologies and IoT applications', '1. Transportation systems/vehicles and autonomy', '3. Wireless communications and broadband applications', '11. Other', '5. Community resilience/adaptability/and sustainability', '10. Community well-being', '3. Wireless communications and broadband applications', '6. Public utilities for energy/water/and waste management', '3. Wireless communications and broadband applications', '11. Other', '7. Agriculture and rural productivity and quality of life', '9.  Education and workforce development', '2. Data governance and city data platforms and dashboards', '3. Wireless communications and broadband applications', '1. Transportation systems/vehicles and autonomy', '6. Public utilities for energy/water/and waste management', '5. Community resilience/adaptability/and sustainability', '7. Agriculture and rural productivity and quality of life', '7. Agriculture and rural productivity and quality of life', '1. Transportation systems/vehicles and autonomy', '5. Community resilience/adaptability/and sustainability', '11. Other', '1. Transportation systems/vehicles and autonomy', '2. Data governance and city data platforms and dashboards', '2. Data governance and city data platforms and dashboards', '3. Wireless communications and broadband applications', '1. Transportation systems/vehicles and autonomy', '11. Other', '8. Smart building technologies and IoT applications', '11. Other', '3. Wireless communications and broadband applications', '5. Community resilience/adaptability/and sustainability', '1. Transportation systems/vehicles and autonomy', '11. Other', '5. Community resilience/adaptability/and sustainability', '3. Wireless communications and broadband applications', '5. Community resilience/adaptability/and sustainability', '11. Other', '11. Other', '1. Transportation systems/vehicles and autonomy', '1. Transportation systems/vehicles and autonomy', '10. Community well-being', '3. Wireless communications and broadband applications', '11. Other', '10. Community well-being', '11. Other', '8. Smart building technologies and IoT applications', '1. Transportation systems/vehicles and autonomy', '11. Other', '1. Transportation systems/vehicles and autonomy', '6. Public utilities for energy/water/and waste management', '1. Transportation systems/vehicles and autonomy', '8. Smart building technologies and IoT applications', '6. Public utilities for energy/water/and waste management', '3. Wireless communications and broadband applications', '10. Community well-being', '10. Community well-being', '10. Community well-being', '1. Transportation systems/vehicles and autonomy', '1. Transportation systems/vehicles and autonomy', '2. Data governance and city data platforms and dashboards', '5. Community resilience/adaptability/and sustainability', '1. Transportation systems/vehicles and autonomy', '6. Public utilities for energy/water/and waste management', '10. Community well-being', '11. Other', '5. Community resilience/adaptability/and sustainability', '3. Wireless communications and broadband applications', '5. Community resilience/adaptability/and sustainability', '6. Public utilities for energy/water/and waste management', '11. Other', '8. Smart building technologies and IoT applications', '11. Other', '8. Smart building technologies and IoT applications', '5. Community resilience/adaptability/and sustainability', '8. Smart building technologies and IoT applications', '10. Community well-being', '6. Public utilities for energy/water/and waste management', '2. Data governance and city data platforms and dashboards', '1. Transportation systems/vehicles and autonomy', '2. Data governance and city data platforms and dashboards', '2. Data governance and city data platforms and dashboards', '3. Wireless communications and broadband applications', '10. Community well-being', '3. Wireless communications and broadband applications', '2. Data governance and city data platforms and dashboards', '5. Community resilience/adaptability/and sustainability', '10. Community well-being', '9.  Education and workforce development', '11. Other', '1. Transportation systems/vehicles and autonomy', '8. Smart building technologies and IoT applications', '2. Data governance and city data platforms and dashboards', '11. Other', '10. Community well-being', '5. Community resilience/adaptability/and sustainability', '1. Transportation systems/vehicles and autonomy', '8. Smart building technologies and IoT applications', '10. Community well-being', '10. Community well-being', '8. Smart building technologies and IoT applications', '2. Data governance and city data platforms and dashboards', '4. Cybersecurity and privacy for public and private sectors', '11. Other', '2. Data governance and city data platforms and dashboards', '1. Transportation systems/vehicles and autonomy', '6. Public utilities for energy/water/and waste management', '1. Transportation systems/vehicles and autonomy', '1. Transportation systems/vehicles and autonomy', '3. Wireless communications and broadband applications', '1. Transportation systems/vehicles and autonomy', '1. Transportation systems/vehicles and autonomy', '11. Other', '11. Other', '2. Data governance and city data platforms and dashboards', '3. Wireless communications and broadband applications', '11. Other', '11. Other', '11. Other', '1. Transportation systems/vehicles and autonomy', '11. Other', '4. Cybersecurity and privacy for public and private sectors', '1. Transportation systems/vehicles and autonomy', '9.  Education and workforce development', '11. Other', '11. Other', '8. Smart building technologies and IoT applications', '1. Transportation systems/vehicles and autonomy', '11. Other', '11. Other', '2. Data governance and city data platforms and dashboards', '2. Data governance and city data platforms and dashboards', '11. Other', '7. Agriculture and rural productivity and quality of life', '5. Community resilience/adaptability/and sustainability', '11. Other', '2. Data governance and city data platforms and dashboards', '10. Community well-being', '1. Transportation systems/vehicles and autonomy', '11. Other', '11. Other', '2. Data governance and city data platforms and dashboards', '2. Data governance and city data platforms and dashboards', '11. Other', '1. Transportation systems/vehicles and autonomy', '3. Wireless communications and broadband applications', '1. Transportation systems/vehicles and autonomy', '1. Transportation systems/vehicles and autonomy', '1. Transportation systems/vehicles and autonomy', '2. Data governance and city data platforms and dashboards', '1. Transportation systems/vehicles and autonomy', '8. Smart building technologies and IoT applications', '10. Community well-being', '8. Smart building technologies and IoT applications', '11. Other', '5. Community resilience/adaptability/and sustainability', '5. Community resilience/adaptability/and sustainability', '2. Data governance and city data platforms and dashboards', '10. Community well-being', '2. Data governance and city data platforms and dashboards', '5. Community resilience/adaptability/and sustainability', '1. Transportation systems/vehicles and autonomy', '3. Wireless communications and broadband applications', '11. Other', '1. Transportation systems/vehicles and autonomy', '4. Cybersecurity and privacy for public and private sectors', '6. Public utilities for energy/water/and waste management', '1. Transportation systems/vehicles and autonomy', '11. Other', '11. Other', '10. Community well-being', '1. Transportation systems/vehicles and autonomy', '1. Transportation systems/vehicles and autonomy', '1. Transportation systems/vehicles and autonomy', '7. Agriculture and rural productivity and quality of life', '1. Transportation systems/vehicles and autonomy', '11. Other', '11. Other', '8. Smart building technologies and IoT applications', '3. Wireless communications and broadband applications', '11. Other', '2. Data governance and city data platforms and dashboards', '4. Cybersecurity and privacy for public and private sectors', '9.  Education and workforce development', '8. Smart building technologies and IoT applications', '3. Wireless communications and broadband applications', '5. Community resilience/adaptability/and sustainability', '1. Transportation systems/vehicles and autonomy', '1. Transportation systems/vehicles and autonomy', '1. Transportation systems/vehicles and autonomy', '1. Transportation systems/vehicles and autonomy', '11. Other', '2. Data governance and city data platforms and dashboards', '10. Community well-being', '2. Data governance and city data platforms and dashboards', '11. Other', '11. Other', '7. Agriculture and rural productivity and quality of life', '11. Other', '11. Other', '8. Smart building technologies and IoT applications', '4. Cybersecurity and privacy for public and private sectors', '11. Other', '1. Transportation systems/vehicles and autonomy', '11. Other', '1. Transportation systems/vehicles and autonomy', '1. Transportation systems/vehicles and autonomy', '2. Data governance and city data platforms and dashboards', '7. Agriculture and rural productivity and quality of life', '10. Community well-being', '11. Other', '10. Community well-being', '1. Transportation systems/vehicles and autonomy', '7. Agriculture and rural productivity and quality of life', '1. Transportation systems/vehicles and autonomy', '3. Wireless communications and broadband applications', '3. Wireless communications and broadband applications', '6. Public utilities for energy/water/and waste management', '11. Other', '2. Data governance and city data platforms and dashboards', '11. Other', '1. Transportation systems/vehicles and autonomy', '10. Community well-being', '3. Wireless communications and broadband applications', '8. Smart building technologies and IoT applications', '2. Data governance and city data platforms and dashboards', '7. Agriculture and rural productivity and quality of life', '1. Transportation systems/vehicles and autonomy', '3. Wireless communications and broadband applications', '11. Other', '11. Other', '2. Data governance and city data platforms and dashboards', '2. Data governance and city data platforms and dashboards', '8. Smart building technologies and IoT applications', '8. Smart building technologies and IoT applications', '8. Smart building technologies and IoT applications', '1. Transportation systems/vehicles and autonomy', '11. Other', '5. Community resilience/adaptability/and sustainability', '7. Agriculture and rural productivity and quality of life', '8. Smart building technologies and IoT applications', '11. Other', '5. Community resilience/adaptability/and sustainability', '11. Other', '5. Community resilience/adaptability/and sustainability', '11. Other', '1. Transportation systems/vehicles and autonomy', '1. Transportation systems/vehicles and autonomy', '11. Other', '11. Other', '8. Smart building technologies and IoT applications', '11. Other', '8. Smart building technologies and IoT applications', '1. Transportation systems/vehicles and autonomy', '1. Transportation systems/vehicles and autonomy', '3. Wireless communications and broadband applications', '7. Agriculture and rural productivity and quality of life', '1. Transportation systems/vehicles and autonomy', '1. Transportation systems/vehicles and autonomy', '1. Transportation systems/vehicles and autonomy', '10. Community well-being', '11. Other', '11. Other', '1. Transportation systems/vehicles and autonomy', '7. Agriculture and rural productivity and quality of life', '10. Community well-being', '8. Smart building technologies and IoT applications', '10. Community well-being', '11. Other', '4. Cybersecurity and privacy for public and private sectors', '11. Other', '1. Transportation systems/vehicles and autonomy', '10. Community well-being', '1. Transportation systems/vehicles and autonomy', '10. Community well-being', '10. Community well-being', '9.  Education and workforce development', '11. Other', '1. Transportation systems/vehicles and autonomy', '1. Transportation systems/vehicles and autonomy', '1. Transportation systems/vehicles and autonomy', '2. Data governance and city data platforms and dashboards', '2. Data governance and city data platforms and dashboards', '11. Other', '11. Other', '1. Transportation systems/vehicles and autonomy', '11. Other', '1. Transportation systems/vehicles and autonomy', '11. Other', '1. Transportation systems/vehicles and autonomy', '7. Agriculture and rural productivity and quality of life', '11. Other', '1. Transportation systems/vehicles and autonomy', '1. Transportation systems/vehicles and autonomy', '11. Other', '8. Smart building technologies and IoT applications', '1. Transportation systems/vehicles and autonomy', '11. Other', '7. Agriculture and rural productivity and quality of life', '11. Other', '3. Wireless communications and broadband applications', '6. Public utilities for energy/water/and waste management', '3. Wireless communications and broadband applications', '11. Other', '11. Other', '2. Data governance and city data platforms and dashboards', '6. Public utilities for energy/water/and waste management', '9.  Education and workforce development', '11. Other', '10. Community well-being', '1. Transportation systems/vehicles and autonomy', '11. Other', '10. Community well-being', '11. Other', '11. Other', '3. Wireless communications and broadband applications', '3. Wireless communications and broadband applications', '11. Other', '5. Community resilience/adaptability/and sustainability', '11. Other', '9.  Education and workforce development', '10. Community well-being', '11. Other', '1. Transportation systems/vehicles and autonomy', '5. Community resilience/adaptability/and sustainability', '11. Other', '8. Smart building technologies and IoT applications', '10. Community well-being', '11. Other', '3. Wireless communications and broadband applications', '10. Community well-being', '1. Transportation systems/vehicles and autonomy', '8. Smart building technologies and IoT applications', '2. Data governance and city data platforms and dashboards', '10. Community well-being', '10. Community well-being', '7. Agriculture and rural productivity and quality of life', '3. Wireless communications and broadband applications', '5. Community resilience/adaptability/and sustainability', '2. Data governance and city data platforms and dashboards', '8. Smart building technologies and IoT applications', '11. Other', '1. Transportation systems/vehicles and autonomy', '8. Smart building technologies and IoT applications', '11. Other', '3. Wireless communications and broadband applications', '11. Other', '1. Transportation systems/vehicles and autonomy', '1. Transportation systems/vehicles and autonomy', '9.  Education and workforce development', '3. Wireless communications and broadband applications', '5. Community resilience/adaptability/and sustainability', '7. Agriculture and rural productivity and quality of life', '11. Other', '1. Transportation systems/vehicles and autonomy', '10. Community well-being', '1. Transportation systems/vehicles and autonomy', '3. Wireless communications and broadband applications', '2. Data governance and city data platforms and dashboards', '3. Wireless communications and broadband applications', '11. Other', '8. Smart building technologies and IoT applications', '8. Smart building technologies and IoT applications', '11. Other', '8. Smart building technologies and IoT applications', '3. Wireless communications and broadband applications', '11. Other', '11. Other', '2. Data governance and city data platforms and dashboards', '2. Data governance and city data platforms and dashboards', '4. Cybersecurity and privacy for public and private sectors', '2. Data governance and city data platforms and dashboards', '3. Wireless communications and broadband applications', '10. Community well-being', '6. Public utilities for energy/water/and waste management', '9.  Education and workforce development', '1. Transportation systems/vehicles and autonomy', '5. Community resilience/adaptability/and sustainability', '1. Transportation systems/vehicles and autonomy', '1. Transportation systems/vehicles and autonomy', '1. Transportation systems/vehicles and autonomy', '6. Public utilities for energy/water/and waste management', '1. Transportation systems/vehicles and autonomy', '8. Smart building technologies and IoT applications', '1. Transportation systems/vehicles and autonomy', '5. Community resilience/adaptability/and sustainability', '2. Data governance and city data platforms and dashboards', '7. Agriculture and rural productivity and quality of life', '11. Other', '11. Other', '1. Transportation systems/vehicles and autonomy', '1. Transportation systems/vehicles and autonomy', '3. Wireless communications and broadband applications', '8. Smart building technologies and IoT applications', '8. Smart building technologies and IoT applications', '8. Smart building technologies and IoT applications', '3. Wireless communications and broadband applications', '3. Wireless communications and broadband applications', '6. Public utilities for energy/water/and waste management', '10. Community well-being', '3. Wireless communications and broadband applications', '7. Agriculture and rural productivity and quality of life', '8. Smart building technologies and IoT applications', '5. Community resilience/adaptability/and sustainability', '11. Other', '10. Community well-being', '8. Smart building technologies and IoT applications', '1. Transportation systems/vehicles and autonomy', '1. Transportation systems/vehicles and autonomy', '7. Agriculture and rural productivity and quality of life', '10. Community well-being', '1. Transportation systems/vehicles and autonomy', '10. Community well-being', '10. Community well-being', '5. Community resilience/adaptability/and sustainability', '8. Smart building technologies and IoT applications', '11. Other', '3. Wireless communications and broadband applications', '10. Community well-being', '11. Other', '1. Transportation systems/vehicles and autonomy', '7. Agriculture and rural productivity and quality of life', '1. Transportation systems/vehicles and autonomy', '5. Community resilience/adaptability/and sustainability', '8. Smart building technologies and IoT applications', '11. Other', '1. Transportation systems/vehicles and autonomy', '1. Transportation systems/vehicles and autonomy', '4. Cybersecurity and privacy for public and private sectors', '6. Public utilities for energy/water/and waste management', '7. Agriculture and rural productivity and quality of life', '3. Wireless communications and broadband applications', '1. Transportation systems/vehicles and autonomy', '7. Agriculture and rural productivity and quality of life', '5. Community resilience/adaptability/and sustainability', '11. Other', '3. Wireless communications and broadband applications', '2. Data governance and city data platforms and dashboards', '1. Transportation systems/vehicles and autonomy', '4. Cybersecurity and privacy for public and private sectors', '1. Transportation systems/vehicles and autonomy', '5. Community resilience/adaptability/and sustainability', '1. Transportation systems/vehicles and autonomy', '6. Public utilities for energy/water/and waste management', '1. Transportation systems/vehicles and autonomy', '1. Transportation systems/vehicles and autonomy', '7. Agriculture and rural productivity and quality of life', '1. Transportation systems/vehicles and autonomy', '2. Data governance and city data platforms and dashboards', '8. Smart building technologies and IoT applications', '6. Public utilities for energy/water/and waste management', '7. Agriculture and rural productivity and quality of life', '6. Public utilities for energy/water/and waste management', '1. Transportation systems/vehicles and autonomy', '2. Data governance and city data platforms and dashboards', '11. Other', '3. Wireless communications and broadband applications', '2. Data governance and city data platforms and dashboards', '5. Community resilience/adaptability/and sustainability', '8. Smart building technologies and IoT applications', '6. Public utilities for energy/water/and waste management', '11. Other', '4. Cybersecurity and privacy for public and private sectors', '4. Cybersecurity and privacy for public and private sectors', '2. Data governance and city data platforms and dashboards', '1. Transportation systems/vehicles and autonomy', '8. Smart building technologies and IoT applications', '11. Other', '11. Other', '8. Smart building technologies and IoT applications', '1. Transportation systems/vehicles and autonomy', '8. Smart building technologies and IoT applications', '1. Transportation systems/vehicles and autonomy', '3. Wireless communications and broadband applications', '1. Transportation systems/vehicles and autonomy', '8. Smart building technologies and IoT applications', '3. Wireless communications and broadband applications', '8. Smart building technologies and IoT applications', '8. Smart building technologies and IoT applications', '3. Wireless communications and broadband applications', '4. Cybersecurity and privacy for public and private sectors', '11. Other', '11. Other', '8. Smart building technologies and IoT applications', '11. Other', '11. Other', '11. Other', '3. Wireless communications and broadband applications', '3. Wireless communications and broadband applications', '9.  Education and workforce development', '6. Public utilities for energy/water/and waste management', '11. Other', '11. Other', '2. Data governance and city data platforms and dashboards', '1. Transportation systems/vehicles and autonomy', '7. Agriculture and rural productivity and quality of life', '6. Public utilities for energy/water/and waste management', '1. Transportation systems/vehicles and autonomy', '1. Transportation systems/vehicles and autonomy', '3. Wireless communications and broadband applications', '6. Public utilities for energy/water/and waste management', '2. Data governance and city data platforms and dashboards', '1. Transportation systems/vehicles and autonomy', '5. Community resilience/adaptability/and sustainability', '4. Cybersecurity and privacy for public and private sectors', '8. Smart building technologies and IoT applications', '5. Community resilience/adaptability/and sustainability', '9.  Education and workforce development', '8. Smart building technologies and IoT applications', '1. Transportation systems/vehicles and autonomy', '2. Data governance and city data platforms and dashboards', '1. Transportation systems/vehicles and autonomy', '1. Transportation systems/vehicles and autonomy', '7. Agriculture and rural productivity and quality of life', '5. Community resilience/adaptability/and sustainability', '11. Other', '1. Transportation systems/vehicles and autonomy', '11. Other', '1. Transportation systems/vehicles and autonomy', '11. Other', '3. Wireless communications and broadband applications', '8. Smart building technologies and IoT applications', '2. Data governance and city data platforms and dashboards', '3. Wireless communications and broadband applications', '2. Data governance and city data platforms and dashboards', '11. Other', '8. Smart building technologies and IoT applications', '2. Data governance and city data platforms and dashboards', '8. Smart building technologies and IoT applications', '3. Wireless communications and broadband applications', '11. Other', '3. Wireless communications and broadband applications', '11. Other', '5. Community resilience/adaptability/and sustainability', '11. Other', '5. Community resilience/adaptability/and sustainability', '2. Data governance and city data platforms and dashboards', '11. Other', '1. Transportation systems/vehicles and autonomy', '9.  Education and workforce development', '5. Community resilience/adaptability/and sustainability', '11. Other', '3. Wireless communications and broadband applications', '11. Other', '6. Public utilities for energy/water/and waste management', '1. Transportation systems/vehicles and autonomy', '3. Wireless communications and broadband applications', '3. Wireless communications and broadband applications', '1. Transportation systems/vehicles and autonomy', '1. Transportation systems/vehicles and autonomy', '11. Other', '5. Community resilience/adaptability/and sustainability', '1. Transportation systems/vehicles and autonomy', '1. Transportation systems/vehicles and autonomy', '3. Wireless communications and broadband applications', '11. Other', '11. Other', '1. Transportation systems/vehicles and autonomy', '5. Community resilience/adaptability/and sustainability', '8. Smart building technologies and IoT applications', '1. Transportation systems/vehicles and autonomy', '1. Transportation systems/vehicles and autonomy', '8. Smart building technologies and IoT applications', '1. Transportation systems/vehicles and autonomy', '5. Community resilience/adaptability/and sustainability', '3. Wireless communications and broadband applications', '2. Data governance and city data platforms and dashboards', '5. Community resilience/adaptability/and sustainability', '9.  Education and workforce development', '1. Transportation systems/vehicles and autonomy', '1. Transportation systems/vehicles and autonomy', '1. Transportation systems/vehicles and autonomy', '1. Transportation systems/vehicles and autonomy', '11. Other', '4. Cybersecurity and privacy for public and private sectors', '8. Smart building technologies and IoT applications', '3. Wireless communications and broadband applications', '8. Smart building technologies and IoT applications', '11. Other', '1. Transportation systems/vehicles and autonomy', '11. Other', '3. Wireless communications and broadband applications', '3. Wireless communications and broadband applications', '5. Community resilience/adaptability/and sustainability', '3. Wireless communications and broadband applications', '1. Transportation systems/vehicles and autonomy', '7. Agriculture and rural productivity and quality of life', '8. Smart building technologies and IoT applications', '11. Other', '3. Wireless communications and broadband applications', '7. Agriculture and rural productivity and quality of life', '3. Wireless communications and broadband applications', '4. Cybersecurity and privacy for public and private sectors', '11. Other', '10. Community well-being', '5. Community resilience/adaptability/and sustainability', '3. Wireless communications and broadband applications', '1. Transportation systems/vehicles and autonomy', '3. Wireless communications and broadband applications', '10. Community well-being', '5. Community resilience/adaptability/and sustainability', '11. Other', '6. Public utilities for energy/water/and waste management', '9.  Education and workforce development', '4. Cybersecurity and privacy for public and private sectors', '7. Agriculture and rural productivity and quality of life', '1. Transportation systems/vehicles and autonomy', '3. Wireless communications and broadband applications', '9.  Education and workforce development', '8. Smart building technologies and IoT applications', '8. Smart building technologies and IoT applications', '8. Smart building technologies and IoT applications', '1. Transportation systems/vehicles and autonomy', '2. Data governance and city data platforms and dashboards', '5. Community resilience/adaptability/and sustainability', '2. Data governance and city data platforms and dashboards', '1. Transportation systems/vehicles and autonomy', '11. Other', '1. Transportation systems/vehicles and autonomy', '1. Transportation systems/vehicles and autonomy', '1. Transportation systems/vehicles and autonomy', '4. Cybersecurity and privacy for public and private sectors', '8. Smart building technologies and IoT applications', '6. Public utilities for energy/water/and waste management', '4. Cybersecurity and privacy for public and private sectors', '7. Agriculture and rural productivity and quality of life', '10. Community well-being', '8. Smart building technologies and IoT applications', '1. Transportation systems/vehicles and autonomy', '11. Other', '11. Other', '3. Wireless communications and broadband applications', '8. Smart building technologies and IoT applications', '7. Agriculture and rural productivity and quality of life', '11. Other', '5. Community resilience/adaptability/and sustainability', '6. Public utilities for energy/water/and waste management', '8. Smart building technologies and IoT applications', '10. Community well-being', '1. Transportation systems/vehicles and autonomy', '9.  Education and workforce development', '11. Other', '1. Transportation systems/vehicles and autonomy', '7. Agriculture and rural productivity and quality of life', '1. Transportation systems/vehicles and autonomy', '11. Other', '3. Wireless communications and broadband applications', '11. Other', '3. Wireless communications and broadband applications', '1. Transportation systems/vehicles and autonomy', '8. Smart building technologies and IoT applications', '11. Other', '9.  Education and workforce development', '11. Other', '11. Other', '1. Transportation systems/vehicles and autonomy', '10. Community well-being', '11. Other', '2. Data governance and city data platforms and dashboards', '1. Transportation systems/vehicles and autonomy', '1. Transportation systems/vehicles and autonomy', '3. Wireless communications and broadband applications', '1. Transportation systems/vehicles and autonomy', '5. Community resilience/adaptability/and sustainability', '11. Other', '8. Smart building technologies and IoT applications', '5. Community resilience/adaptability/and sustainability', '3. Wireless communications and broadband applications', '11. Other', '1. Transportation systems/vehicles and autonomy', '9.  Education and workforce development', '5. Community resilience/adaptability/and sustainability', '11. Other', '2. Data governance and city data platforms and dashboards', '11. Other', '10. Community well-being', '9.  Education and workforce development', '11. Other', '5. Community resilience/adaptability/and sustainability', '5. Community resilience/adaptability/and sustainability', '5. Community resilience/adaptability/and sustainability', '5. Community resilience/adaptability/and sustainability', '2. Data governance and city data platforms and dashboards', '1. Transportation systems/vehicles and autonomy', '11. Other', '5. Community resilience/adaptability/and sustainability', '3. Wireless communications and broadband applications', '1. Transportation systems/vehicles and autonomy', '1. Transportation systems/vehicles and autonomy', '1. Transportation systems/vehicles and autonomy', '1. Transportation systems/vehicles and autonomy', '5. Community resilience/adaptability/and sustainability', '11. Other', '5. Community resilience/adaptability/and sustainability', '6. Public utilities for energy/water/and waste management', '6. Public utilities for energy/water/and waste management', '1. Transportation systems/vehicles and autonomy', '4. Cybersecurity and privacy for public and private sectors', '1. Transportation systems/vehicles and autonomy', '5. Community resilience/adaptability/and sustainability', '1. Transportation systems/vehicles and autonomy', '6. Public utilities for energy/water/and waste management', '1. Transportation systems/vehicles and autonomy', '3. Wireless communications and broadband applications', '8. Smart building technologies and IoT applications', '4. Cybersecurity and privacy for public and private sectors', '11. Other', '11. Other', '11. Other', '4. Cybersecurity and privacy for public and private sectors', '3. Wireless communications and broadband applications', '11. Other', '8. Smart building technologies and IoT applications', '1. Transportation systems/vehicles and autonomy', '9.  Education and workforce development', '1. Transportation systems/vehicles and autonomy', '11. Other', '1. Transportation systems/vehicles and autonomy', '9.  Education and workforce development', '8. Smart building technologies and IoT applications', '10. Community well-being', '8. Smart building technologies and IoT applications', '8. Smart building technologies and IoT applications', '3. Wireless communications and broadband applications', '3. Wireless communications and broadband applications', '4. Cybersecurity and privacy for public and private sectors', '1. Transportation systems/vehicles and autonomy', '11. Other', '1. Transportation systems/vehicles and autonomy', '2. Data governance and city data platforms and dashboards', '11. Other', '11. Other', '10. Community well-being', '8. Smart building technologies and IoT applications', '9.  Education and workforce development', '1. Transportation systems/vehicles and autonomy', '4. Cybersecurity and privacy for public and private sectors', '8. Smart building technologies and IoT applications', '5. Community resilience/adaptability/and sustainability', '2. Data governance and city data platforms and dashboards', '8. Smart building technologies and IoT applications', '8. Smart building technologies and IoT applications', '8. Smart building technologies and IoT applications', '9.  Education and workforce development', '8. Smart building technologies and IoT applications', '2. Data governance and city data platforms and dashboards', '5. Community resilience/adaptability/and sustainability', '3. Wireless communications and broadband applications', '8. Smart building technologies and IoT applications', '3. Wireless communications and broadband applications', '3. Wireless communications and broadband applications', '9.  Education and workforce development', '10. Community well-being', '8. Smart building technologies and IoT applications', '1. Transportation systems/vehicles and autonomy', '5. Community resilience/adaptability/and sustainability', '11. Other', '11. Other', '11. Other', '11. Other', '2. Data governance and city data platforms and dashboards', '11. Other', '10. Community well-being', '8. Smart building technologies and IoT applications', '1. Transportation systems/vehicles and autonomy', '1. Transportation systems/vehicles and autonomy', '11. Other', '8. Smart building technologies and IoT applications', '8. Smart building technologies and IoT applications']\n"
     ]
    }
   ],
   "source": [
    "import csv\n",
    "from sklearn.svm import LinearSVC\n",
    "from sklearn.model_selection import train_test_split\n",
    "from sklearn.model_selection import GridSearchCV\n",
    "from sklearn.feature_extraction.text import CountVectorizer\n",
    "from sklearn.metrics import accuracy_score, f1_score\n",
    "from sklearn.pipeline import Pipeline\n",
    "import numpy as np\n",
    "np.random.seed(42)\n",
    "import random\n",
    "random.seed(42)\n",
    "\n",
    "X_txt = [] # x_text should be a list of strings where thestrings are representing the commnets\n",
    "y = [] # y is a list of strings\n",
    "with open('comments_1000_csv_comma.csv', encoding=\"ISO-8859-1\") as in_file:\n",
    "    iCSV = csv.reader(in_file, delimiter=',')\n",
    "    next(iCSV)\n",
    "    for row in iCSV:\n",
    "        X_txt.append(row[0])\n",
    "        y.append(row[1])    \n",
    "\n",
    "X_txt_train, X_txt_test, y_train, y_test = train_test_split(X_txt, y, test_size=0.2, random_state=42)\n",
    "#print(y)\n",
    "#print(X_txt)"
   ]
  },
  {
   "cell_type": "markdown",
   "id": "4562761a",
   "metadata": {},
   "source": [
    "# Modeling for 'Topics' "
   ]
  },
  {
   "cell_type": "code",
   "execution_count": 67,
   "id": "d0aa5796",
   "metadata": {},
   "outputs": [
    {
     "name": "stdout",
     "output_type": "stream",
     "text": [
      "Validation F1:0.4494\n",
      "Validation F1:0.4494\n",
      "Precision: 0.4025\n",
      "Recall: 0.3612\n",
      "F1: 0.3566\n"
     ]
    },
    {
     "name": "stderr",
     "output_type": "stream",
     "text": [
      "/Users/gulsum/opt/anaconda3/lib/python3.9/site-packages/sklearn/metrics/_classification.py:1334: UndefinedMetricWarning: Precision is ill-defined and being set to 0.0 in labels with no predicted samples. Use `zero_division` parameter to control this behavior.\n",
      "  _warn_prf(average, modifier, msg_start, len(result))\n"
     ]
    }
   ],
   "source": [
    "from sklearn.metrics import make_scorer\n",
    "import numpy as np\n",
    "from sklearn.datasets import make_multilabel_classification\n",
    "from sklearn.multioutput import MultiOutputClassifier\n",
    "from sklearn.linear_model import LogisticRegression\n",
    "\n",
    "#creating feature vectors using countvectorizer\n",
    "vec=CountVectorizer(ngram_range=(1,1))\n",
    "X_train=vec.fit_transform(X_txt_train)\n",
    "\n",
    "X_test=vec.transform(X_txt_test)\n",
    "\n",
    "svc=LogisticRegression()\n",
    "\n",
    "params={'C':[0.0001,0.001,0.001,0.01,0.1,1,10]}\n",
    "\n",
    "clf=GridSearchCV(svc,params, cv=2)\n",
    " \n",
    "#fit the model with training data\n",
    "\n",
    "clf.fit(X_train,y_train)\n",
    "\n",
    "#best estimators\n",
    "\n",
    "validation_score=clf.best_score_\n",
    "\n",
    "print(\"Validation F1:{:.4f}\".format(validation_score))\n",
    "\n",
    "#predict on X_test\n",
    "\n",
    "lr_predict_predictions=clf.predict(X_test)\n",
    "\n",
    "print(\"Validation F1:{:.4f}\".format(validation_score))\n",
    "\n",
    "#precision and recall score\n",
    "\n",
    "precision =precision_score(y_test,lr_predict_predictions,average = 'macro')\n",
    "\n",
    "recall =recall_score(y_test,lr_predict_predictions,average = 'macro')\n",
    "\n",
    "f1 =f1_score(y_test,lr_predict_predictions,average = 'macro')\n",
    "\n",
    "print(\"Precision: {:.4f}\".format(precision))\n",
    "\n",
    "print(\"Recall: {:.4f}\".format(recall))\n",
    "\n",
    "print(\"F1: {:.4f}\".format(f1))"
   ]
  },
  {
   "cell_type": "code",
   "execution_count": 71,
   "id": "2b39b0fc",
   "metadata": {},
   "outputs": [
    {
     "name": "stdout",
     "output_type": "stream",
     "text": [
      "Dummy Stratified Precision: 0.0155\n",
      "Dummy Stratified Recall: 0.0909\n",
      "Stratified F1: 0.0264\n"
     ]
    },
    {
     "name": "stderr",
     "output_type": "stream",
     "text": [
      "/Users/gulsum/opt/anaconda3/lib/python3.9/site-packages/sklearn/metrics/_classification.py:1334: UndefinedMetricWarning: Precision is ill-defined and being set to 0.0 in labels with no predicted samples. Use `zero_division` parameter to control this behavior.\n",
      "  _warn_prf(average, modifier, msg_start, len(result))\n"
     ]
    }
   ],
   "source": [
    "from sklearn.dummy import DummyClassifier\n",
    "dummy_clf = DummyClassifier(strategy=\"most_frequent\")\n",
    "dummy_clf.fit(X_train, y_train)\n",
    "\n",
    "dummy_clf.score(X_test, y_test)\n",
    "\n",
    "#predict on X_test\n",
    "\n",
    "lr_predict_predictions=dummy_clf.predict(X_test)\n",
    "\n",
    "#precision and recall score\n",
    "\n",
    "precision =precision_score(y_test,lr_predict_predictions,average = 'macro')\n",
    "\n",
    "recall =recall_score(y_test,lr_predict_predictions,average = 'macro')\n",
    "\n",
    "f1 =f1_score(y_test,lr_predict_predictions,average = 'macro')\n",
    "\n",
    "print(\"Dummy Stratified Precision: {:.4f}\".format(precision))\n",
    "\n",
    "print(\"Dummy Stratified Recall: {:.4f}\".format(recall))\n",
    "\n",
    "print(\"Stratified F1: {:.4f}\".format(f1))\n"
   ]
  },
  {
   "cell_type": "markdown",
   "id": "5cae64e4",
   "metadata": {},
   "source": [
    "For this case I used topics column as my 'y', and the score is higher than the dummy stratified.\n",
    "For next, I will use sentiment column as my 'y' and check all for that too."
   ]
  },
  {
   "cell_type": "markdown",
   "id": "a9740b2d",
   "metadata": {},
   "source": [
    "# Modeling for Sentiment"
   ]
  },
  {
   "cell_type": "code",
   "execution_count": 72,
   "id": "974f1046",
   "metadata": {},
   "outputs": [],
   "source": [
    "X_txt = [] # x_text should be a list of strings where thestrings are representing the commnets\n",
    "y = [] # y is a list of strings\n",
    "with open('comments_1000_csv_comma.csv', encoding=\"ISO-8859-1\") as in_file:\n",
    "    iCSV = csv.reader(in_file, delimiter=',')\n",
    "    next(iCSV)\n",
    "    for row in iCSV:\n",
    "        X_txt.append(row[0])\n",
    "        y.append(row[2])    \n",
    "\n",
    "X_txt_train, X_txt_test, y_train, y_test = train_test_split(X_txt, y, test_size=0.2, random_state=42)"
   ]
  },
  {
   "cell_type": "code",
   "execution_count": 73,
   "id": "efe336cb",
   "metadata": {},
   "outputs": [
    {
     "name": "stdout",
     "output_type": "stream",
     "text": [
      "Validation F1:0.6683\n",
      "Validation F1:0.6683\n",
      "Precision: 0.2300\n",
      "Recall: 0.3333\n",
      "F1: 0.2722\n"
     ]
    },
    {
     "name": "stderr",
     "output_type": "stream",
     "text": [
      "/Users/gulsum/opt/anaconda3/lib/python3.9/site-packages/sklearn/metrics/_classification.py:1334: UndefinedMetricWarning: Precision is ill-defined and being set to 0.0 in labels with no predicted samples. Use `zero_division` parameter to control this behavior.\n",
      "  _warn_prf(average, modifier, msg_start, len(result))\n"
     ]
    }
   ],
   "source": [
    "from sklearn.metrics import make_scorer\n",
    "import numpy as np\n",
    "from sklearn.datasets import make_multilabel_classification\n",
    "from sklearn.multioutput import MultiOutputClassifier\n",
    "from sklearn.linear_model import LogisticRegression\n",
    "\n",
    "#creating feature vectors using countvectorizer\n",
    "vec=CountVectorizer(ngram_range=(1,1))\n",
    "X_train=vec.fit_transform(X_txt_train)\n",
    "\n",
    "X_test=vec.transform(X_txt_test)\n",
    "\n",
    "svc=LogisticRegression()\n",
    "\n",
    "params={'C':[0.0001,0.001,0.001,0.01,0.1,1,10]}\n",
    "\n",
    "clf=GridSearchCV(svc,params, cv=2)\n",
    " \n",
    "#fit the model with training data\n",
    "\n",
    "clf.fit(X_train,y_train)\n",
    "\n",
    "#best estimators\n",
    "\n",
    "validation_score=clf.best_score_\n",
    "\n",
    "print(\"Validation F1:{:.4f}\".format(validation_score))\n",
    "\n",
    "#predict on X_test\n",
    "\n",
    "lr_predict_predictions=clf.predict(X_test)\n",
    "\n",
    "print(\"Validation F1:{:.4f}\".format(validation_score))\n",
    "\n",
    "#precision and recall score\n",
    "\n",
    "precision =precision_score(y_test,lr_predict_predictions,average = 'macro')\n",
    "\n",
    "recall =recall_score(y_test,lr_predict_predictions,average = 'macro')\n",
    "\n",
    "f1 =f1_score(y_test,lr_predict_predictions,average = 'macro')\n",
    "\n",
    "print(\"Precision: {:.4f}\".format(precision))\n",
    "\n",
    "print(\"Recall: {:.4f}\".format(recall))\n",
    "\n",
    "print(\"F1: {:.4f}\".format(f1))"
   ]
  },
  {
   "cell_type": "code",
   "execution_count": 74,
   "id": "e32f8637",
   "metadata": {
    "scrolled": true
   },
   "outputs": [
    {
     "name": "stdout",
     "output_type": "stream",
     "text": [
      "Dummy Stratified Precision: 0.2300\n",
      "Dummy Stratified Recall: 0.3333\n",
      "Stratified F1: 0.2722\n"
     ]
    },
    {
     "name": "stderr",
     "output_type": "stream",
     "text": [
      "/Users/gulsum/opt/anaconda3/lib/python3.9/site-packages/sklearn/metrics/_classification.py:1334: UndefinedMetricWarning: Precision is ill-defined and being set to 0.0 in labels with no predicted samples. Use `zero_division` parameter to control this behavior.\n",
      "  _warn_prf(average, modifier, msg_start, len(result))\n"
     ]
    }
   ],
   "source": [
    "from sklearn.dummy import DummyClassifier\n",
    "dummy_clf = DummyClassifier(strategy=\"most_frequent\")\n",
    "dummy_clf.fit(X_train, y_train)\n",
    "\n",
    "dummy_clf.score(X_test, y_test)\n",
    "\n",
    "#predict on X_test\n",
    "\n",
    "lr_predict_predictions=dummy_clf.predict(X_test)\n",
    "\n",
    "#precision and recall score\n",
    "\n",
    "precision =precision_score(y_test,lr_predict_predictions,average = 'macro')\n",
    "\n",
    "recall =recall_score(y_test,lr_predict_predictions,average = 'macro')\n",
    "\n",
    "f1 =f1_score(y_test,lr_predict_predictions,average = 'macro')\n",
    "\n",
    "print(\"Dummy Stratified Precision: {:.4f}\".format(precision))\n",
    "\n",
    "print(\"Dummy Stratified Recall: {:.4f}\".format(recall))\n",
    "\n",
    "print(\"Stratified F1: {:.4f}\".format(f1))\n"
   ]
  },
  {
   "cell_type": "code",
   "execution_count": null,
   "id": "5e158ad9",
   "metadata": {},
   "outputs": [],
   "source": []
  }
 ],
 "metadata": {
  "kernelspec": {
   "display_name": "Python 3 (ipykernel)",
   "language": "python",
   "name": "python3"
  },
  "language_info": {
   "codemirror_mode": {
    "name": "ipython",
    "version": 3
   },
   "file_extension": ".py",
   "mimetype": "text/x-python",
   "name": "python",
   "nbconvert_exporter": "python",
   "pygments_lexer": "ipython3",
   "version": "3.9.12"
  }
 },
 "nbformat": 4,
 "nbformat_minor": 5
}
